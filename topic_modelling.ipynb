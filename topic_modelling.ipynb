{
 "cells": [
  {
   "cell_type": "code",
   "execution_count": 112,
   "metadata": {},
   "outputs": [],
   "source": [
    "import pandas as pd\n",
    "from openpyxl import load_workbook"
   ]
  },
  {
   "cell_type": "code",
   "execution_count": 113,
   "metadata": {},
   "outputs": [],
   "source": [
    "#import excel file\n",
    "filename_from = \"dummy_comment.xlsx\"\n",
    "sheetname_from = \"Sheet1\""
   ]
  },
  {
   "cell_type": "code",
   "execution_count": 114,
   "metadata": {},
   "outputs": [
    {
     "name": "stdout",
     "output_type": "stream",
     "text": [
      "['I hope the company could provide more annual leaves', 'Fuel up Friday is very useful', 'No email beyond working hours']\n"
     ]
    }
   ],
   "source": [
    "#put each comment into a list\n",
    "df = pd.read_excel(filename_from,sheet_name = sheetname_from)\n",
    "comments = df.comments.tolist()\n",
    "print(comments)"
   ]
  },
  {
   "cell_type": "code",
   "execution_count": 115,
   "metadata": {},
   "outputs": [
    {
     "name": "stdout",
     "output_type": "stream",
     "text": [
      "[['I', 'hope', 'the', 'company', 'could', 'provide', 'more', 'annual', 'leaves'], ['Fuel', 'up', 'Friday', 'is', 'very', 'useful'], ['No', 'email', 'beyond', 'working', 'hours']]\n"
     ]
    }
   ],
   "source": [
    "#Tokenize each comments\n",
    "'''\n",
    "import nltk\n",
    "nltk.download('punkt')\n",
    "'''\n",
    "from nltk.tokenize import word_tokenize\n",
    "tokenized = [word_tokenize(comment) for comment in comments]\n",
    "print(tokenized)"
   ]
  },
  {
   "cell_type": "code",
   "execution_count": 116,
   "metadata": {},
   "outputs": [],
   "source": [
    "from collections import Counter\n",
    "\n",
    "# function that pulls chunks out of chunked sentence and finds the most common chunks\n",
    "def np_chunk_counter(chunked_sentences):\n",
    "\n",
    "    # create a list to hold chunks\n",
    "    chunks = list()\n",
    "\n",
    "    # for-loop through each chunked sentence to extract noun phrase chunks\n",
    "    for chunked_sentence in chunked_sentences:\n",
    "        for subtree in chunked_sentence.subtrees(filter=lambda t: t.label() == 'NP'):\n",
    "            chunks.append(tuple(subtree))\n",
    "\n",
    "    # create a Counter object\n",
    "    chunk_counter = Counter()\n",
    "\n",
    "    # for-loop through the list of chunks\n",
    "    for chunk in chunks:\n",
    "        # increase counter of specific chunk by 1\n",
    "        chunk_counter[chunk] += 1\n",
    "\n",
    "    # return 30 most frequent chunks\n",
    "    return chunk_counter.most_common(30)\n"
   ]
  },
  {
   "cell_type": "code",
   "execution_count": 117,
   "metadata": {},
   "outputs": [
    {
     "name": "stdout",
     "output_type": "stream",
     "text": [
      "[[('I', 'PRP'), ('hope', 'VBP'), ('the', 'DT'), ('company', 'NN'), ('could', 'MD'), ('provide', 'VB'), ('more', 'JJR'), ('annual', 'JJ'), ('leaves', 'NNS')], [('Fuel', 'NNP'), ('up', 'RB'), ('Friday', 'NNP'), ('is', 'VBZ'), ('very', 'RB'), ('useful', 'JJ')], [('No', 'DT'), ('email', 'NN'), ('beyond', 'IN'), ('working', 'VBG'), ('hours', 'NNS')]]\n"
     ]
    }
   ],
   "source": [
    "import re\n",
    "#import nltk\n",
    "#nltk.download('averaged_perceptron_tagger')\n",
    "from nltk import pos_tag\n",
    "pos_tag_comments = [pos_tag(comment) for comment in tokenized]\n",
    "print(pos_tag_comments)"
   ]
  },
  {
   "cell_type": "code",
   "execution_count": 118,
   "metadata": {},
   "outputs": [
    {
     "name": "stdout",
     "output_type": "stream",
     "text": [
      "[(Tree('VP', [('provide', 'VB'), ('more', 'JJR'), ('annual', 'JJ'), ('leaves', 'NNS')]),), (), (Tree('VP', [('working', 'VBG'), ('hours', 'NNS')]),)]\n"
     ]
    }
   ],
   "source": [
    "#find verb pharse from each comment\n",
    "from nltk import RegexpParser, Tree\n",
    "#vp_chunk_grammar = \"VP: {<VB.*><JJ*>*<NN><RB.?>?}\"\n",
    "vp_chunk_grammar = \"VP: {<VB.*><JJ.*>*<NN.*><RB.?>?}\"\n",
    "# create RegexpParser object here\n",
    "vp_chunk_parser = RegexpParser(vp_chunk_grammar)\n",
    "\n",
    "\n",
    "#Tree.fromstring(str(first_vp)).pretty_print()\n",
    "vp_chunked_comments = list()\n",
    "for i in range(len(pos_tag_comments)):\n",
    "    tree = vp_chunk_parser.parse(pos_tag_comments[i])\n",
    "    vp_chunked_comments.append((tuple(tree.subtrees(filter=lambda t: t.label() == 'VP'))))\n",
    "\n",
    "print(vp_chunked_comments)"
   ]
  },
  {
   "cell_type": "code",
   "execution_count": 119,
   "metadata": {},
   "outputs": [
    {
     "name": "stdout",
     "output_type": "stream",
     "text": [
      "[(Tree('NP', [('the', 'DT'), ('company', 'NN')]),), (), (Tree('NP', [('No', 'DT'), ('email', 'NN')]),)]\n"
     ]
    }
   ],
   "source": [
    "# find all noun pharse\n",
    "np_chunk_grammar = \"NP: {<DT>?<JJ>*<NN*>}\"\n",
    "np_chunk_parser = RegexpParser(np_chunk_grammar)\n",
    "np_chunked_comments = []\n",
    "\n",
    "# chunk each sentence and append to chunked_oz\n",
    "np_chunked_comments = list()\n",
    "for i in range(len(pos_tag_comments)):\n",
    "    tree = np_chunk_parser.parse(pos_tag_comments[i])\n",
    "    np_chunked_comments.append((tuple(tree.subtrees(filter=lambda t: t.label() == 'NP'))))\n",
    "\n",
    "print(np_chunked_comments)"
   ]
  },
  {
   "cell_type": "code",
   "execution_count": 120,
   "metadata": {},
   "outputs": [
    {
     "name": "stdout",
     "output_type": "stream",
     "text": [
      "                                            comments  \\\n",
      "0  I hope the company could provide more annual l...   \n",
      "1                      Fuel up Friday is very useful   \n",
      "2                      No email beyond working hours   \n",
      "\n",
      "        main_idea_verb_pharse main_idea_noun_pharse  \n",
      "0  provide more annual leaves           the company  \n",
      "1                                                    \n",
      "2               working hours              No email  \n"
     ]
    }
   ],
   "source": [
    "vp_column = []\n",
    "for x in range(len(vp_chunked_comments)):\n",
    "    token = []\n",
    "    if len(vp_chunked_comments[x])==0:\n",
    "        vp_column.append(\"\")\n",
    "        continue\n",
    "    for y in range(len(vp_chunked_comments[x][0])):\n",
    "        token.append(vp_chunked_comments[x][0][y][0])\n",
    "    main_idea = \" \".join(token)\n",
    "    vp_column.append(main_idea)\n",
    "    \n",
    "df['main_idea_verb_pharse'] = vp_column\n",
    "\n",
    "np_column = []\n",
    "for x in range(len(np_chunked_comments)):\n",
    "    token = []\n",
    "    if len(np_chunked_comments[x])==0:\n",
    "        np_column.append(\"\")\n",
    "        continue\n",
    "    for y in range(len(np_chunked_comments[x][0])):\n",
    "        token.append(np_chunked_comments[x][0][y][0])\n",
    "    main_idea = \" \".join(token)\n",
    "    np_column.append(main_idea)\n",
    "\n",
    "df['main_idea_noun_pharse'] = np_column\n",
    "print(df)"
   ]
  },
  {
   "cell_type": "code",
   "execution_count": 121,
   "metadata": {},
   "outputs": [],
   "source": [
    "#Export to excel\n",
    "filename_save_to = \"dummy_comment2.xlsx\"\n",
    "sheetname_save_to = \"nlp_comment\"\n",
    "with pd.ExcelWriter(filename_save_to,\n",
    "                    mode='w', engine='openpyxl') as writer:  \n",
    "    df.to_excel(writer, sheet_name=sheetname_save_to, index = False)"
   ]
  },
  {
   "cell_type": "code",
   "execution_count": 168,
   "metadata": {},
   "outputs": [
    {
     "name": "stdout",
     "output_type": "stream",
     "text": [
      "                                      S                                               \n",
      "   ___________________________________|__________________________________              \n",
      "  |      |        |         |         |         |         |              NP           \n",
      "  |      |        |         |         |         |         |         _____|______       \n",
      "I/PRP hope/VBP could/MD provide/VB more/JJR annual/JJ leaves/NNS the/DT     company/NN\n",
      "\n"
     ]
    }
   ],
   "source": [
    "#Check NP tree\n",
    "'''comment_index = 0\n",
    "tree = np_chunk_parser.parse(pos_tag_comments[comment_index])\n",
    "Tree.fromstring(str(tree)).pretty_print()'''"
   ]
  },
  {
   "cell_type": "code",
   "execution_count": 61,
   "metadata": {},
   "outputs": [
    {
     "name": "stdout",
     "output_type": "stream",
     "text": [
      "[['leaves'], ['useful'], ['hours']]\n"
     ]
    }
   ],
   "source": [
    "# Remove stop words\n",
    "'''#import nltk\n",
    "#nltk.download('stopwords')\n",
    "\n",
    "from nltk.corpus import stopwords\n",
    "stop_words = set(stopwords.words('english'))\n",
    "filtered_word = []\n",
    "for comment in tokenized:\n",
    "    for token in comment:\n",
    "        temp_cell = []\n",
    "        if token not in stop_words:\n",
    "            temp_cell.append(token)\n",
    "    filtered_word.append(temp_cell)\n",
    "print(filtered_word)'''"
   ]
  },
  {
   "cell_type": "code",
   "execution_count": 86,
   "metadata": {},
   "outputs": [],
   "source": []
  }
 ],
 "metadata": {
  "kernelspec": {
   "display_name": "Python 3",
   "language": "python",
   "name": "python3"
  },
  "language_info": {
   "codemirror_mode": {
    "name": "ipython",
    "version": 3
   },
   "file_extension": ".py",
   "mimetype": "text/x-python",
   "name": "python",
   "nbconvert_exporter": "python",
   "pygments_lexer": "ipython3",
   "version": "3.8.3"
  }
 },
 "nbformat": 4,
 "nbformat_minor": 4
}
